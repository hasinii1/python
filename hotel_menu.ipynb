{
 "cells": [
  {
   "cell_type": "code",
   "execution_count": 1,
   "id": "f01a6649-8d5d-40a0-8f0c-2fd0e7267e0c",
   "metadata": {},
   "outputs": [],
   "source": [
    "# Define the menu of the Restaurent"
   ]
  },
  {
   "cell_type": "code",
   "execution_count": 7,
   "id": "5c4aae03-a1ef-44c6-8955-99c6b0ed0db5",
   "metadata": {},
   "outputs": [],
   "source": [
    "menu = {\n",
    "    'Pizza':40,\n",
    "    'Pasta':50,\n",
    "    'Burger':45,\n",
    "    'Salad':55,\n",
    "    'Coffee':65,\n",
    "}\n"
   ]
  },
  {
   "cell_type": "code",
   "execution_count": 8,
   "id": "99add257-ed4d-40e0-9bd6-0b43e99ddef4",
   "metadata": {},
   "outputs": [
    {
     "name": "stdout",
     "output_type": "stream",
     "text": [
      "Welcome to PYTHON Restaurent\n",
      "Pizza Rs:40\n",
      "Pasta Rs:50\n",
      "Burger Rs:45\n",
      "Salad Rs:55\n",
      "Coffee Rs:65\n"
     ]
    }
   ],
   "source": [
    "#Greet customer\n",
    "print(\"Welcome to PYTHON Restaurent\")\n",
    "print(\"Pizza Rs:40\\nPasta Rs:50\\nBurger Rs:45\\nSalad Rs:55\\nCoffee Rs:65\")"
   ]
  },
  {
   "cell_type": "code",
   "execution_count": null,
   "id": "0b4d3654-bd95-4114-aebf-6f3a2b9f733b",
   "metadata": {},
   "outputs": [
    {
     "name": "stdout",
     "output_type": "stream",
     "text": [
      "Enter the item you want to order Sir/Mam: Coffee\n"
     ]
    },
    {
     "name": "stdout",
     "output_type": "stream",
     "text": [
      "your item Coffee has been added to order\n"
     ]
    },
    {
     "name": "stdout",
     "output_type": "stream",
     "text": [
      "do u want anything else? (Yes/No) Yes\n",
      "Enter your 2nd item: Salad\n"
     ]
    },
    {
     "name": "stdout",
     "output_type": "stream",
     "text": [
      "your item Salad has been added to order\n",
      "The total amount to pay is 120\n"
     ]
    }
   ],
   "source": [
    "order_total=0\n",
    "item_1=input(\"Enter the item you want to order Sir/Mam:\")\n",
    "\n",
    "if item_1 in menu:\n",
    "    order_total += menu[item_1]\n",
    "    print(f\"your item {item_1} has been added to order\")\n",
    "else:\n",
    "    print(f\"ordered item {item_1} is not available yet\")\n",
    "\n",
    "another_order = input(\"do u want anything else? (Yes/No)\")\n",
    "if another_order == \"Yes\":\n",
    "    item_2 = input(\"Enter your 2nd item:\")\n",
    "    if item_2 in menu:\n",
    "        order_total = order_total+menu[item_2]\n",
    "        print(f\"your item {item_2} has been added to order\")\n",
    "    else:\n",
    "        print(f\"ordered item {item_2} is not available!\")\n",
    "\n",
    "print(f\"The total amount to pay is {order_total}\")\n",
    "\n",
    "\n",
    "    \n"
   ]
  },
  {
   "cell_type": "code",
   "execution_count": null,
   "id": "13b51186-f96f-4e79-8742-4ebd87d4a147",
   "metadata": {},
   "outputs": [],
   "source": []
  },
  {
   "cell_type": "code",
   "execution_count": null,
   "id": "dd5bcb3c-63bb-4d1b-9fbd-fca28cceccc5",
   "metadata": {},
   "outputs": [],
   "source": []
  }
 ],
 "metadata": {
  "kernelspec": {
   "display_name": "Python 3 (ipykernel)",
   "language": "python",
   "name": "python3"
  },
  "language_info": {
   "codemirror_mode": {
    "name": "ipython",
    "version": 3
   },
   "file_extension": ".py",
   "mimetype": "text/x-python",
   "name": "python",
   "nbconvert_exporter": "python",
   "pygments_lexer": "ipython3",
   "version": "3.12.7"
  }
 },
 "nbformat": 4,
 "nbformat_minor": 5
}
